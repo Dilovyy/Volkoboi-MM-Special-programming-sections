{
 "cells": [
  {
   "cell_type": "code",
   "execution_count": null,
   "id": "a0abf330",
   "metadata": {},
   "outputs": [],
   "source": [
    "print(\"Laba 1 tut povynna bytu\")"
   ]
  }
 ],
 "metadata": {
  "language_info": {
   "name": "python"
  }
 },
 "nbformat": 4,
 "nbformat_minor": 5
}
