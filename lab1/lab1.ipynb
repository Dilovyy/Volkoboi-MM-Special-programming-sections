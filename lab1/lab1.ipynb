{
 "cells": [
  {
   "cell_type": "code",
   "execution_count": null,
   "id": "a0abf330",
   "metadata": {},
   "outputs": [],
   "source": [
    "import urllib\n",
    "import os\n",
    "import pandas as pd\n",
    "from datetime import datetime\n",
    "import glob\n"
   ]
  },
  {
   "cell_type": "code",
   "execution_count": null,
   "id": "cbce2da7",
   "metadata": {},
   "outputs": [],
   "source": [
    "def downloadprovince(id: int):\n",
    "    url = f\"https://www.star.nesdis.noaa.gov/smcd/emb/vci/VH/get_TS_admin.php?country=UKR&provinceID={id}&year1=1981&year2=2024&type=Mean\"\n",
    "    timestamp = datetime.now().strftime(\"%Y%m%d_%Hh%Mm%Ss\")\n",
    "    filename = f\"Province{id}_{timestamp}.csv\"\n",
    "    filepath = os.path.join(foldername, filename)\n",
    "\n",
    "    try:\n",
    "        print(f\"[INFO] Завантаження provinceID={id}...\")\n",
    "        urllib.request.urlretrieve(url, filepath)\n",
    "        print(f\"[OK] Збережено: {filepath}\")\n",
    "    except Exception as e:\n",
    "        print(f\"[ERROR] Не вдалося завантажити provinceID={id}: {e}\")"
   ]
  },
  {
   "cell_type": "code",
   "execution_count": null,
   "id": "1b5f4dae",
   "metadata": {},
   "outputs": [],
   "source": [
    "foldername = \"provinces\"\n",
    "years = (1981, 2024)"
   ]
  },
  {
   "cell_type": "code",
   "execution_count": null,
   "id": "9cfddc3c",
   "metadata": {},
   "outputs": [],
   "source": [
    "for id in range(1, 28):\n",
    "    #print(f\"Завантажена область номер {id}\")\n",
    "    downloadprovince(id)"
   ]
  },
  {
   "cell_type": "code",
   "execution_count": 118,
   "id": "7d72c0c1",
   "metadata": {},
   "outputs": [
    {
     "name": "stdout",
     "output_type": "stream",
     "text": [
      "Читаю файл: provinces\\Province1_20250925_15h37m07s.csv\n",
      "               year   week     SMN    SMT    VCI    TCI   VHI<br>\n",
      "<tt><pre>1982   1.0  0.053  260.31  45.01  39.46  42.23       NaN\n",
      "1982            2.0  0.054  262.29  46.83  31.75  39.29       NaN\n",
      "1982            3.0  0.055  263.82  48.13  27.24  37.68       NaN\n",
      "1982            4.0  0.053  265.33  46.09  23.91  35.00       NaN\n",
      "1982            5.0  0.050  265.66  41.46  26.65  34.06       NaN\n"
     ]
    }
   ],
   "source": [
    "files = glob.glob(\"provinces/Province1_*.csv\")\n",
    "if files:\n",
    "    latestfile = sorted(files)[-1]   # найновіший файл\n",
    "    print(f\"Читаю файл: {latestfile}\")\n",
    "df = pd.read_csv(latestfile, skiprows = 1)\n",
    "print(df.head())"
   ]
  },
  {
   "cell_type": "code",
   "execution_count": null,
   "id": "f15700d1",
   "metadata": {},
   "outputs": [],
   "source": [
    "#files = glob.glob(\"provinces/Province8_*.csv\")\n",
    "#latestfile = sorted(files)[-1]  \n"
   ]
  }
 ],
 "metadata": {
  "kernelspec": {
   "display_name": "venvlab1",
   "language": "python",
   "name": "python3"
  },
  "language_info": {
   "codemirror_mode": {
    "name": "ipython",
    "version": 3
   },
   "file_extension": ".py",
   "mimetype": "text/x-python",
   "name": "python",
   "nbconvert_exporter": "python",
   "pygments_lexer": "ipython3",
   "version": "3.13.7"
  }
 },
 "nbformat": 4,
 "nbformat_minor": 5
}
